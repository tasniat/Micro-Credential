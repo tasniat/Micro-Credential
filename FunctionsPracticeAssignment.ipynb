{
  "nbformat": 4,
  "nbformat_minor": 0,
  "metadata": {
    "colab": {
      "name": "FunctionsPracticeAssignment.ipynb",
      "provenance": [],
      "authorship_tag": "ABX9TyNtPGFQe3mJVGn2TyNGRuA3",
      "include_colab_link": true
    },
    "kernelspec": {
      "name": "python3",
      "display_name": "Python 3"
    }
  },
  "cells": [
    {
      "cell_type": "markdown",
      "metadata": {
        "id": "view-in-github",
        "colab_type": "text"
      },
      "source": [
        "<a href=\"https://colab.research.google.com/github/tasniat/Micro-Credential/blob/main/FunctionsPracticeAssignment.ipynb\" target=\"_parent\"><img src=\"https://colab.research.google.com/assets/colab-badge.svg\" alt=\"Open In Colab\"/></a>"
      ]
    },
    {
      "cell_type": "markdown",
      "metadata": {
        "id": "TjnGGlzwV2Ae"
      },
      "source": [
        "Create an application to produce net pay. Gross pay is before deductions and net pay is after deductions. \r\n",
        "\r\n",
        "*   Federal Tax: 20%\r\n",
        "*   State Tax: 7%\r\n",
        "*   Health insurance: 5%\r\n",
        "*   401k: 10%\r\n",
        "\r\n",
        "**Note:**\r\n",
        "*   401k is calculated before tax is deducted so you will want calculate tax after 401k is subtracted from gross pay.\r\n",
        "*   Health insurance is calculated on the whole gross pay.\r\n",
        "*   Tax is calculated gross pay minus 401 contribution.\r\n",
        "\r\n",
        "You will allow entry of hours worked and pay rate. After 40 hours the employee receives time and a half pay."
      ]
    },
    {
      "cell_type": "code",
      "metadata": {
        "colab": {
          "base_uri": "https://localhost:8080/"
        },
        "id": "DzHnM0n9U6I-",
        "outputId": "62cb40b3-182c-4af3-f17d-14178cae564f"
      },
      "source": [
        "hours = float(input('Enter how many hours you worked: '))\r\n",
        "payrate = float(input('Enter what is your pay rate: '))\r\n",
        "\r\n",
        "def calc_gross_pay(h, p):\r\n",
        "  if h <= 40:\r\n",
        "    gross_pay = h * p\r\n",
        "    return gross_pay\r\n",
        "  else: \r\n",
        "    gross_pay = ((1.5 * (h - 40)) * p) + (40 * p)\r\n",
        "    return gross_pay\r\n",
        "\r\n",
        "gross_p = calc_gross_pay(hours, payrate)\r\n",
        "\r\n",
        "def calc_401k():\r\n",
        "  c401k = gross_p * .1\r\n",
        "  return c401k\r\n",
        "\r\n",
        "def calc_health_ins():\r\n",
        "  health_ins = gross_p * .05\r\n",
        "  return health_ins\r\n",
        "\r\n",
        "def calc_fed_tax():\r\n",
        "  fed_tax = (gross_p - calc_401k()) * .2\r\n",
        "  return fed_tax\r\n",
        "\r\n",
        "def calc_state_tax():\r\n",
        "  state_tax = (gross_p - calc_401k()) * .07\r\n",
        "  return state_tax\r\n",
        "\r\n",
        "def calc_net_pay():\r\n",
        "  net_pay = gross_p - (calc_401k() + calc_health_ins() + calc_fed_tax() + calc_state_tax())\r\n",
        "  return net_pay\r\n",
        "\r\n",
        "def net_and_deductions():\r\n",
        "  print('Gross Pay: ' + '\\t\\t' + str('{:.2f}'.format(gross_p)))\r\n",
        "  print('401k: ' + '\\t\\t\\t' + str('{:.2f}'.format(calc_401k())))\r\n",
        "  print('Health Insurance: ' + '\\t' + str('{:.2f}'.format(calc_health_ins())))\r\n",
        "  print('Federal Tax: ' + '\\t\\t' + str('{:.2f}'.format(calc_fed_tax())))\r\n",
        "  print('State Tax: ' + '\\t\\t' + str('{:.2f}'.format(calc_state_tax())))\r\n",
        "  print('Net Pay: ' + '\\t\\t' + str('{:.2f}'.format(calc_net_pay())))\r\n",
        "\r\n",
        "net_and_deductions()"
      ],
      "execution_count": 43,
      "outputs": [
        {
          "output_type": "stream",
          "text": [
            "Enter how many hours you worked: 42\n",
            "Enter what is your pay rate: 15\n",
            "Gross Pay: \t\t645.00\n",
            "401k: \t\t\t64.50\n",
            "Health Insurance: \t32.25\n",
            "Federal Tax: \t\t116.10\n",
            "State Tax: \t\t40.64\n",
            "Net Pay: \t\t391.51\n"
          ],
          "name": "stdout"
        }
      ]
    }
  ]
}