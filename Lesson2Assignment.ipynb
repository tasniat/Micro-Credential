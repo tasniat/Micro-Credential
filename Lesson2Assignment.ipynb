{
  "nbformat": 4,
  "nbformat_minor": 0,
  "metadata": {
    "colab": {
      "name": "Lesson2Assignment.ipynb",
      "provenance": [],
      "authorship_tag": "ABX9TyOfVp7gX1vHsl8apIJXz+bD",
      "include_colab_link": true
    },
    "kernelspec": {
      "name": "python3",
      "display_name": "Python 3"
    }
  },
  "cells": [
    {
      "cell_type": "markdown",
      "metadata": {
        "id": "view-in-github",
        "colab_type": "text"
      },
      "source": [
        "<a href=\"https://colab.research.google.com/github/tasniat/Micro-Credential/blob/main/Lesson2Assignment.ipynb\" target=\"_parent\"><img src=\"https://colab.research.google.com/assets/colab-badge.svg\" alt=\"Open In Colab\"/></a>"
      ]
    },
    {
      "cell_type": "markdown",
      "metadata": {
        "id": "O-8iWA2LnVER"
      },
      "source": [
        "**Question 1)** What is Python and why is it useful?"
      ]
    },
    {
      "cell_type": "markdown",
      "metadata": {
        "id": "OkK0O4klne-E"
      },
      "source": [
        "Answer: Python is an object-oriented, high-level programming language. It is a language designed to mimic the English language and make it easier to learn for programmers. "
      ]
    },
    {
      "cell_type": "markdown",
      "metadata": {
        "id": "iyC0uZkhnrzB"
      },
      "source": [
        "**Question 2)** Are the following variable names allowed in python?"
      ]
    },
    {
      "cell_type": "markdown",
      "metadata": {
        "id": "YF75KgxHoHn8"
      },
      "source": [
        "*   a) 1_message --> no\r\n",
        "*   b) Greeting_message --> yes\r\n",
        "*   c) Message_1 --> yes\r\n",
        "*   d) First name --> no\r\n",
        "*   e. Full_name --> yes\r\n",
        "\r\n",
        "\r\n",
        "\r\n",
        "\r\n",
        "\r\n",
        "\r\n"
      ]
    },
    {
      "cell_type": "markdown",
      "metadata": {
        "id": "H1Vr2uPiopXX"
      },
      "source": [
        "**Question 3)** Create a variable that holds the string “hello there!”"
      ]
    },
    {
      "cell_type": "code",
      "metadata": {
        "colab": {
          "base_uri": "https://localhost:8080/"
        },
        "id": "XV4zjEvgjMOY",
        "outputId": "2354e654-b030-44fd-823f-4bf269270661"
      },
      "source": [
        "string = 'hello there!'\r\n",
        "print(string)"
      ],
      "execution_count": 1,
      "outputs": [
        {
          "output_type": "stream",
          "text": [
            "hello there!\n"
          ],
          "name": "stdout"
        }
      ]
    },
    {
      "cell_type": "markdown",
      "metadata": {
        "id": "YHSZ4kepozY-"
      },
      "source": [
        "**Question 4)** Create a variable for first name, last name and an email extension. Concatenating all three together to form an email address. \r\n",
        "For example: firstnamelastname@gmail.com"
      ]
    },
    {
      "cell_type": "code",
      "metadata": {
        "colab": {
          "base_uri": "https://localhost:8080/"
        },
        "id": "0MYGdbqmjlIL",
        "outputId": "b04ca983-3c0c-48d3-d65a-ed0bbd9035a5"
      },
      "source": [
        "first_name = input('What is your first name? ')\r\n",
        "last_name = input('What is your last name? ')\r\n",
        "email_ext = input('What is your gmail extension? ')\r\n",
        "email_addr = first_name + last_name + email_ext\r\n",
        "print('Your email address is ' + email_addr)"
      ],
      "execution_count": 7,
      "outputs": [
        {
          "output_type": "stream",
          "text": [
            "What is your first name? tasnia\n",
            "What is your last name? tabassum\n",
            "What is your gmail extension? @gmail.com\n",
            "Your email address is tasniatabassum@gmail.com\n"
          ],
          "name": "stdout"
        }
      ]
    },
    {
      "cell_type": "markdown",
      "metadata": {
        "id": "XzTqKj9jo8ch"
      },
      "source": [
        "**Question 5)** Store someone you know name in a variable called name. Print their name in lower and uppercase using a method."
      ]
    },
    {
      "cell_type": "code",
      "metadata": {
        "colab": {
          "base_uri": "https://localhost:8080/"
        },
        "id": "gVfhQEcfkPPk",
        "outputId": "bafe17e5-7e20-4856-bf49-2a3a73277dd8"
      },
      "source": [
        "name = 'Violet Boudelaire'\r\n",
        "print(name.upper())\r\n",
        "print(name.lower())"
      ],
      "execution_count": 3,
      "outputs": [
        {
          "output_type": "stream",
          "text": [
            "VIOLET BOUDELAIRE\n",
            "violet boudelaire\n"
          ],
          "name": "stdout"
        }
      ]
    },
    {
      "cell_type": "markdown",
      "metadata": {
        "id": "LwwvXui_pEBZ"
      },
      "source": [
        "**Question 6)** Using a variable, ask your friend if they want to hang out on the 15th of the month. For example, “Do you want to hang out on the 15th of this month?” You should have to convert the number to a string."
      ]
    },
    {
      "cell_type": "code",
      "metadata": {
        "colab": {
          "base_uri": "https://localhost:8080/"
        },
        "id": "6Qi5nxqjkgnt",
        "outputId": "0e71b2db-21ae-400a-f46b-78b822b8ec96"
      },
      "source": [
        "ans = input('Do you want to hang out on the ' + str(15) + 'th of this month? ')\r\n",
        "print(ans)"
      ],
      "execution_count": 6,
      "outputs": [
        {
          "output_type": "stream",
          "text": [
            "Do you want to hang out on the 15th of this month? Yes\n",
            "Yes\n"
          ],
          "name": "stdout"
        }
      ]
    }
  ]
}