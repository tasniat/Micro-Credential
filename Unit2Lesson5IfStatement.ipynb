{
  "nbformat": 4,
  "nbformat_minor": 0,
  "metadata": {
    "colab": {
      "name": "Unit2Lesson5IfStatement.ipynb",
      "provenance": [],
      "authorship_tag": "ABX9TyM24H+8ihOSswu+k+14Nd4r",
      "include_colab_link": true
    },
    "kernelspec": {
      "name": "python3",
      "display_name": "Python 3"
    }
  },
  "cells": [
    {
      "cell_type": "markdown",
      "metadata": {
        "id": "view-in-github",
        "colab_type": "text"
      },
      "source": [
        "<a href=\"https://colab.research.google.com/github/tasniat/Micro-Credential/blob/main/Unit2Lesson5IfStatement.ipynb\" target=\"_parent\"><img src=\"https://colab.research.google.com/assets/colab-badge.svg\" alt=\"Open In Colab\"/></a>"
      ]
    },
    {
      "cell_type": "markdown",
      "metadata": {
        "id": "L8QdoxB7eVKy"
      },
      "source": [
        "**Exercise 1)** Make a list of 5 or more usernames, including an admin account. Imagine you are writing code\r\n",
        "that will welcome people to your application on login. Loop through the list and print your\r\n",
        "greeting.\r\n",
        "\r\n",
        "\r\n",
        "*   a. If the admin account logs in, give them a special greeting. They’re the admin, after all!\r\n",
        "*   b. Other users can get the generic greeting\r\n"
      ]
    },
    {
      "cell_type": "code",
      "metadata": {
        "colab": {
          "base_uri": "https://localhost:8080/"
        },
        "id": "2LEi-lopjtaB",
        "outputId": "666d3b4d-fd31-4a5c-f6e5-cae4def720f2"
      },
      "source": [
        "#Solution 1 which is with a given list of values\r\n",
        "user_list = ['admin', 'user1', 'user2', 'user3', 'user4', 'user5']\r\n",
        "\r\n",
        "for x in user_list:\r\n",
        "  if x == 'admin':\r\n",
        "    print('Welcome ' + x + '! You are now logged in as admin.')\r\n",
        "  else:\r\n",
        "    print('Welcome ' + x + '! You are now logged in as a user.')"
      ],
      "execution_count": 9,
      "outputs": [
        {
          "output_type": "stream",
          "text": [
            "Welcome admin! You are now logged in as admin.\n",
            "Welcome user1! You are now logged in as a user.\n",
            "Welcome user2! You are now logged in as a user.\n",
            "Welcome user3! You are now logged in as a user.\n",
            "Welcome user4! You are now logged in as a user.\n",
            "Welcome user5! You are now logged in as a user.\n"
          ],
          "name": "stdout"
        }
      ]
    },
    {
      "cell_type": "code",
      "metadata": {
        "colab": {
          "base_uri": "https://localhost:8080/"
        },
        "id": "__omkTO8eqSn",
        "outputId": "60dcf6e7-85a9-45ce-b492-26195754b066"
      },
      "source": [
        "#Solution 2 is when the user inputs the username and type of account and the values are stored in the dictionary\r\n",
        "user_name = input('Enter your username to login: ')\r\n",
        "user_type = input('Enter your user account type (e.g. admin or user): ')\r\n",
        "user_dict = {}\r\n",
        "\r\n",
        "user_dict[user_name] = user_type\r\n",
        "\r\n",
        "for k,v in user_dict.items():\r\n",
        "  if v == 'admin':\r\n",
        "    print('Welcome admin ' + k + '! You are now logged in with admin privileges!')\r\n",
        "  else:\r\n",
        "    print('Welcome ' + k + '! You are now logged in!')"
      ],
      "execution_count": 15,
      "outputs": [
        {
          "output_type": "stream",
          "text": [
            "Enter your username to login: tasnia\n",
            "Enter your user account type (e.g. admin or user): admin\n",
            "Welcome admin tasnia! You are now logged in with admin privileges!\n"
          ],
          "name": "stdout"
        }
      ]
    },
    {
      "cell_type": "markdown",
      "metadata": {
        "id": "Sp18rVd8esV9"
      },
      "source": [
        "**Exercise 2)** Store numbers 1-10 in a list\r\n",
        "\r\n",
        "*   a. Loop through the list\r\n",
        "*   b. Use an if-elif-else chain inside your loop to print the ordinal ending for each number –\r\n",
        "for example – 1 st , 2 nd , 3 rd … etc."
      ]
    },
    {
      "cell_type": "code",
      "metadata": {
        "colab": {
          "base_uri": "https://localhost:8080/"
        },
        "id": "ZR7HAjmie5wK",
        "outputId": "8ef85647-06ed-46a9-9f5b-19396aabf4ab"
      },
      "source": [
        "num_list = [1, 2, 3, 4, 5, 6, 7, 8, 9, 10]\r\n",
        "for x in num_list:\r\n",
        "  if x == 1:\r\n",
        "    print(str(x) + ' st')\r\n",
        "  elif x == 2:\r\n",
        "    print(str(x) + ' nd')\r\n",
        "  elif x == 3:\r\n",
        "    print(str(x) + ' rd')\r\n",
        "  else: \r\n",
        "    print(str(x) + ' th')"
      ],
      "execution_count": 7,
      "outputs": [
        {
          "output_type": "stream",
          "text": [
            "1 st\n",
            "2 nd\n",
            "3 rd\n",
            "4 th\n",
            "5 th\n",
            "6 th\n",
            "7 th\n",
            "8 th\n",
            "9 th\n",
            "10 th\n"
          ],
          "name": "stdout"
        }
      ]
    }
  ]
}