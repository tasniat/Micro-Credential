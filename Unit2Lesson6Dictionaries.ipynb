{
  "nbformat": 4,
  "nbformat_minor": 0,
  "metadata": {
    "colab": {
      "name": "Unit2Lesson6Dictionaries.ipynb",
      "provenance": [],
      "authorship_tag": "ABX9TyN6a62BP/uIB+AFISUCrcV7",
      "include_colab_link": true
    },
    "kernelspec": {
      "name": "python3",
      "display_name": "Python 3"
    }
  },
  "cells": [
    {
      "cell_type": "markdown",
      "metadata": {
        "id": "view-in-github",
        "colab_type": "text"
      },
      "source": [
        "<a href=\"https://colab.research.google.com/github/tasniat/Micro-Credential/blob/main/Unit2Lesson6Dictionaries.ipynb\" target=\"_parent\"><img src=\"https://colab.research.google.com/assets/colab-badge.svg\" alt=\"Open In Colab\"/></a>"
      ]
    },
    {
      "cell_type": "markdown",
      "metadata": {
        "id": "KNFaqLYdeoa1"
      },
      "source": [
        "**Exercise 1)** Create a simple dictionary that stores 2 variables, for example: first and last name."
      ]
    },
    {
      "cell_type": "code",
      "metadata": {
        "colab": {
          "base_uri": "https://localhost:8080/"
        },
        "id": "dng-bheTdsdU",
        "outputId": "beda671e-9057-452e-c8db-cbb0745f40cb"
      },
      "source": [
        "name_dict = {'first_name': 'Violet', 'last_name': 'Boudelaire'}\r\n",
        "print(name_dict)"
      ],
      "execution_count": 1,
      "outputs": [
        {
          "output_type": "stream",
          "text": [
            "{'first_name': 'Violet', 'last_name': 'Boudelaire'}\n"
          ],
          "name": "stdout"
        }
      ]
    },
    {
      "cell_type": "code",
      "metadata": {
        "colab": {
          "base_uri": "https://localhost:8080/"
        },
        "id": "8tsodJ28fKmK",
        "outputId": "128f5341-eeba-4fbf-b814-ab0370330bf5"
      },
      "source": [
        "name_dict2 = {}\r\n",
        "\r\n",
        "first_name = input('Enter your first name: ')\r\n",
        "last_name = input('Enter your last name: ')\r\n",
        "\r\n",
        "name_dict2['first_name'] = first_name\r\n",
        "name_dict2['last_name'] = last_name\r\n",
        "\r\n",
        "print(name_dict2)"
      ],
      "execution_count": 4,
      "outputs": [
        {
          "output_type": "stream",
          "text": [
            "Enter your first name: Klaus\n",
            "Enter your last name: Boudelaire\n",
            "{'first_name': 'Klaus', 'last_name': 'Boudelaire'}\n"
          ],
          "name": "stdout"
        }
      ]
    },
    {
      "cell_type": "markdown",
      "metadata": {
        "id": "HuRJ5vRZfiks"
      },
      "source": [
        "**Exercise 2)** Print out those variables stored in your previous dictionary."
      ]
    },
    {
      "cell_type": "code",
      "metadata": {
        "colab": {
          "base_uri": "https://localhost:8080/"
        },
        "id": "6WeuAZHAfn-T",
        "outputId": "ebb2bd3e-7222-44d4-eaa2-2c2f552c2838"
      },
      "source": [
        "print(name_dict)\r\n",
        "print(name_dict2)"
      ],
      "execution_count": 5,
      "outputs": [
        {
          "output_type": "stream",
          "text": [
            "{'first_name': 'Violet', 'last_name': 'Boudelaire'}\n",
            "{'first_name': 'Klaus', 'last_name': 'Boudelaire'}\n"
          ],
          "name": "stdout"
        }
      ]
    },
    {
      "cell_type": "markdown",
      "metadata": {
        "id": "PocIDHZCf1NC"
      },
      "source": [
        "**Exercise 3)** Add a message to those variables on printing: for example: “Hello, firstname lastname!”"
      ]
    },
    {
      "cell_type": "code",
      "metadata": {
        "colab": {
          "base_uri": "https://localhost:8080/"
        },
        "id": "ftaG0XQ-f7cj",
        "outputId": "150375b8-cbf7-4f1d-8ae9-da9352347b83"
      },
      "source": [
        "print('Hi ' + name_dict['first_name'] + ' ' + name_dict['last_name'] + ', its very nice to meet you!')\r\n",
        "print('Hi ' + name_dict2['first_name'] + ' ' + name_dict2['last_name'] + ', its very nice to meet you!')"
      ],
      "execution_count": 12,
      "outputs": [
        {
          "output_type": "stream",
          "text": [
            "Hi Violet Boudelaire, its very nice to meet you!\n",
            "Hi Klaus Boudelaire, its very nice to meet you!\n"
          ],
          "name": "stdout"
        }
      ]
    },
    {
      "cell_type": "markdown",
      "metadata": {
        "id": "qXByjz_2hVQw"
      },
      "source": [
        "**Exercise 4)** Create a dictionary that holds 2 key: value pairs. Look through your dictionary and print each pair."
      ]
    },
    {
      "cell_type": "code",
      "metadata": {
        "colab": {
          "base_uri": "https://localhost:8080/"
        },
        "id": "QQmWSOAJhcUw",
        "outputId": "64806100-d84f-43fd-bc30-6677afd8cf1f"
      },
      "source": [
        "new_dict = {'color': 'purple', 'country': 'USA'}\r\n",
        "\r\n",
        "for k,v in new_dict.items():\r\n",
        "  print(k + '\\t: ' + v)"
      ],
      "execution_count": 17,
      "outputs": [
        {
          "output_type": "stream",
          "text": [
            "color\t: purple\n",
            "country\t: USA\n"
          ],
          "name": "stdout"
        }
      ]
    },
    {
      "cell_type": "markdown",
      "metadata": {
        "id": "XWr-h5TDiQaz"
      },
      "source": [
        "**Exercise 5)** Create a nested dictionary containing three dictionaries – these dictionaries could be anything (favorite pets, travel locations, etc.). Loop through the dictionaries and print a message for each."
      ]
    },
    {
      "cell_type": "code",
      "metadata": {
        "colab": {
          "base_uri": "https://localhost:8080/"
        },
        "id": "EXIUzI9giUZD",
        "outputId": "25683311-57b0-4f98-cb1b-d2ddbbb68b46"
      },
      "source": [
        "combo_dict = {\r\n",
        "    'fav_animals': {\r\n",
        "        'animal_1': 'cats',\r\n",
        "        'animal_2': 'dogs'\r\n",
        "    },\r\n",
        "    'places_to_visit': {\r\n",
        "        'place_1': 'Japan',\r\n",
        "        'place_2': 'South Korea',\r\n",
        "        'place_3': 'France',\r\n",
        "        'place_4': 'Italy',\r\n",
        "        'place_5': 'China'\r\n",
        "    },\r\n",
        "    'fav_series': {\r\n",
        "        'series_1': 'Harry Potter Series',\r\n",
        "        'series_2': 'Series of Unfortunate Events',\r\n",
        "        'series_3': 'Rangers Apprentice'\r\n",
        "    }\r\n",
        "}\r\n",
        "\r\n",
        "for k,v in combo_dict.items():\r\n",
        "  if k == 'fav_animals':\r\n",
        "    print('My favorite animals are ' + combo_dict['fav_animals']['animal_1'] + ' and ' + combo_dict['fav_animals']['animal_2'])\r\n",
        "  elif k == 'places_to_visit':\r\n",
        "    print('The countries I would like to visit soon are ' + combo_dict['places_to_visit']['place_1'] + ', ' + combo_dict['places_to_visit']['place_2'] + ', ' + combo_dict['places_to_visit']['place_3'] + ', ' + combo_dict['places_to_visit']['place_4'] + ', and ' + combo_dict['places_to_visit']['place_5'])\r\n",
        "  else:\r\n",
        "    print('My favorite childhood book series are the ' + combo_dict['fav_series']['series_1'] + ', ' + combo_dict['fav_series']['series_2'] + ', and ' + combo_dict['fav_series']['series_3'])"
      ],
      "execution_count": 23,
      "outputs": [
        {
          "output_type": "stream",
          "text": [
            "My favorite animals are cats and dogs\n",
            "The countries I would like to visit soon are Japan, South Korea, France, Italy, and China\n",
            "My favorite childhood book series are the Harry Potter Series, Series of Unfortunate Events, and Rangers Apprentice\n"
          ],
          "name": "stdout"
        }
      ]
    }
  ]
}