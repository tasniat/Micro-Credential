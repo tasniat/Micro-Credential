{
  "nbformat": 4,
  "nbformat_minor": 0,
  "metadata": {
    "colab": {
      "name": "Lesson3Assignment.ipynb",
      "provenance": [],
      "authorship_tag": "ABX9TyNIpoMHkLV1F0zuH+KrN7uR",
      "include_colab_link": true
    },
    "kernelspec": {
      "name": "python3",
      "display_name": "Python 3"
    }
  },
  "cells": [
    {
      "cell_type": "markdown",
      "metadata": {
        "id": "view-in-github",
        "colab_type": "text"
      },
      "source": [
        "<a href=\"https://colab.research.google.com/github/tasniat/Micro-Credential/blob/main/Lesson3Assignment.ipynb\" target=\"_parent\"><img src=\"https://colab.research.google.com/assets/colab-badge.svg\" alt=\"Open In Colab\"/></a>"
      ]
    },
    {
      "cell_type": "markdown",
      "metadata": {
        "id": "Zre8dYdapqAB"
      },
      "source": [
        "**Question 1)** Create a list of 5 of your favorite tv shows."
      ]
    },
    {
      "cell_type": "code",
      "metadata": {
        "id": "iK_2JptKlb67"
      },
      "source": [
        "fav_show_list = ['The Mentalist', 'Supernatural', 'Hannibal', 'Sherlock', 'Teen Wolf']"
      ],
      "execution_count": 2,
      "outputs": []
    },
    {
      "cell_type": "markdown",
      "metadata": {
        "id": "910fDXhWp0jQ"
      },
      "source": [
        "**Question 2)** Print the list in its original order."
      ]
    },
    {
      "cell_type": "code",
      "metadata": {
        "colab": {
          "base_uri": "https://localhost:8080/"
        },
        "id": "APx5QiocmOFL",
        "outputId": "d2327628-491a-439d-cede-7e19d9a661cd"
      },
      "source": [
        "print(fav_show_list)"
      ],
      "execution_count": 3,
      "outputs": [
        {
          "output_type": "stream",
          "text": [
            "['The Mentalist', 'Supernatural', 'Hannibal', 'Sherlock', 'Teen Wolf']\n"
          ],
          "name": "stdout"
        }
      ]
    },
    {
      "cell_type": "markdown",
      "metadata": {
        "id": "zRtEhAzlp6iL"
      },
      "source": [
        "**Question 3)** Use the sorted() function to print the list in alphabetical order. How is sorted() different from sort()?"
      ]
    },
    {
      "cell_type": "code",
      "metadata": {
        "colab": {
          "base_uri": "https://localhost:8080/"
        },
        "id": "gzzztC5HmWt7",
        "outputId": "aa51bfe2-b66d-4f9d-908c-0550e7b5a91c"
      },
      "source": [
        "print(fav_show_list)\r\n",
        "print(sorted(fav_show_list))"
      ],
      "execution_count": 23,
      "outputs": [
        {
          "output_type": "stream",
          "text": [
            "['Hannibal', 'Sherlock', 'Supernatural', 'Teen Wolf', 'The Mentalist']\n",
            "['Hannibal', 'Sherlock', 'Supernatural', 'Teen Wolf', 'The Mentalist']\n"
          ],
          "name": "stdout"
        }
      ]
    },
    {
      "cell_type": "markdown",
      "metadata": {
        "id": "xLys3G2Ep_EN"
      },
      "source": [
        "sorted() is different from sort() in terms of the positioning of the function with respect to the list. With the sorted() function, the list goes in the parenthesis, as in sorted(fav_show_list). Essentially, the sorted() function is applied to the list. However, with the sort() function, the function is treated as a function of the list. It would be written as fav_show_list.sort(). Both functions result in the same output, but they differ in the way they are written. Also, sorted() creates a new list and does not modify the original list, but sort() does modify the original list."
      ]
    },
    {
      "cell_type": "markdown",
      "metadata": {
        "id": "7kc38sBvqjNh"
      },
      "source": [
        "**Question 4)** Print out your original list."
      ]
    },
    {
      "cell_type": "code",
      "metadata": {
        "colab": {
          "base_uri": "https://localhost:8080/"
        },
        "id": "w5RM72uHre-V",
        "outputId": "1c8378a2-2769-4502-ebce-ea7b20c4e420"
      },
      "source": [
        "print(fav_show_list)"
      ],
      "execution_count": 20,
      "outputs": [
        {
          "output_type": "stream",
          "text": [
            "['The Mentalist', 'Supernatural', 'Hannibal', 'Sherlock', 'Teen Wolf']\n"
          ],
          "name": "stdout"
        }
      ]
    },
    {
      "cell_type": "markdown",
      "metadata": {
        "id": "SGzk86x1rfxD"
      },
      "source": [
        "**Question 5)** Used sorted() to print your list in reverse alphabetical order."
      ]
    },
    {
      "cell_type": "code",
      "metadata": {
        "colab": {
          "base_uri": "https://localhost:8080/"
        },
        "id": "08IocV2eqhqQ",
        "outputId": "365c5d4a-664c-41da-f89d-1dce28bd4b2c"
      },
      "source": [
        "reverse_list = sorted(fav_show_list, reverse = True)\r\n",
        "print(reverse_list)"
      ],
      "execution_count": 8,
      "outputs": [
        {
          "output_type": "stream",
          "text": [
            "['The Mentalist', 'Teen Wolf', 'Supernatural', 'Sherlock', 'Hannibal']\n"
          ],
          "name": "stdout"
        }
      ]
    },
    {
      "cell_type": "markdown",
      "metadata": {
        "id": "Fx1kjyUPrqK3"
      },
      "source": [
        "**Question 6)** Create a message indicating how many favorite TV shows you have – use the len() function."
      ]
    },
    {
      "cell_type": "code",
      "metadata": {
        "colab": {
          "base_uri": "https://localhost:8080/"
        },
        "id": "LfDhc3y5rud6",
        "outputId": "492029fe-8c54-4c9c-c547-9e1b267ca1ea"
      },
      "source": [
        "list_length = len(fav_show_list)\r\n",
        "print('I have ' + str(list_length) + ' favorite TV shows.')"
      ],
      "execution_count": 10,
      "outputs": [
        {
          "output_type": "stream",
          "text": [
            "I have 5 favorite TV shows.\n"
          ],
          "name": "stdout"
        }
      ]
    }
  ]
}